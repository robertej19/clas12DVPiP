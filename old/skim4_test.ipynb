{
 "cells": [
  {
   "cell_type": "code",
   "execution_count": 1,
   "id": "7b352509",
   "metadata": {},
   "outputs": [],
   "source": [
    "import uproot\n",
    "import pandas as pd\n",
    "import numpy as np\n",
    "import argparse\n",
    "from copy import copy\n",
    "from utils.const import *\n",
    "from utils.physics import *\n",
    "from scipy.stats import skewnorm\n",
    "import sys"
   ]
  },
  {
   "cell_type": "code",
   "execution_count": 2,
   "id": "35eb8e3d",
   "metadata": {},
   "outputs": [],
   "source": [
    "file = uproot.open('quick_delta_ana/pi0_skim4_005038.root')"
   ]
  },
  {
   "cell_type": "code",
   "execution_count": 3,
   "id": "465677b5",
   "metadata": {},
   "outputs": [],
   "source": [
    "detRes = 0\n",
    "logistics = 0\n",
    "df_electronRec = pd.DataFrame()\n",
    "df_protonRec = pd.DataFrame()\n",
    "df_gammaRec = pd.DataFrame()\n",
    "eleKeysRec = [\"Epx\", \"Epy\", \"Epz\", \"Eedep\", \"Esector\"]#, \"TriggerBit\"]\n",
    "proKeysRec = [\"Ppx\", \"Ppy\", \"Ppz\", \"Pstat\", \"Psector\"]\n",
    "proKeysRec.extend([\"PDc1Hitx\", \"PDc1Hity\", \"PDc1Hitz\", \"PCvt12Hitx\", \"PCvt12Hity\", \"PCvt12Hitz\"])\n",
    "# proKeysRec.extend([\"Pchi2pid\", \"Pchi2track\", \"PNDFtrack\"])\n",
    "gamKeysRec = [\"Gpx\", \"Gpy\", \"Gpz\", \"Gedep\", \"GcX\", \"GcY\", \"Gsector\"]\n",
    "\n",
    "if detRes:\n",
    "    eleKeysRec.extend([\"Evx\", \"Evy\", \"Evz\"])\n",
    "    eleKeysRec.extend([\"EDc1Hitx\", \"EDc1Hity\", \"EDc1Hitz\", \"EDc3Hitx\", \"EDc3Hity\", \"EDc3Hitz\"])\n",
    "    eleKeysRec.extend([\"Eedep1\", \"Eedep2\", \"Eedep3\"])\n",
    "    eleKeysRec.extend([\"EcalU1\", \"EcalV1\", \"EcalW1\"])\n",
    "    eleKeysRec.extend([\"Enphe\"])\n",
    "    gamKeysRec.extend([\"Gedep1\", \"Gedep2\", \"Gedep3\"])\n",
    "    gamKeysRec.extend([\"GcalU1\", \"GcalV1\", \"GcalW1\"])\n",
    "    gamKeysRec.extend([\"Gbeta\"])\n",
    "    proKeysRec.extend([\"Pvz\"])\n",
    "    proKeysRec.extend([\"PCvt1Hitx\", \"PCvt1Hity\", \"PCvt1Hitz\", \"PCvt3Hitx\", \"PCvt3Hity\", \"PCvt3Hitz\", \"PCvt5Hitx\", \"PCvt5Hity\", \"PCvt5Hitz\", \"PCvt7Hitx\", \"PCvt7Hity\", \"PCvt7Hitz\"])\n",
    "    proKeysRec.extend([\"PDc1Hitx\", \"PDc1Hity\", \"PDc1Hitz\", \"PDc3Hitx\", \"PDc3Hity\", \"PDc3Hitz\"])\n",
    "    eleKeysRec.extend([\"startTime\"])\n",
    "    proKeysRec.extend([\"PFtof1aTime\", \"PFtof1bTime\", \"PFtof2Time\", \"PCtofTime\"])\n",
    "    proKeysRec.extend([\"PFtof1aHitx\", \"PFtof1bHitx\", \"PFtof2Hitx\", \"PCtofHitx\"])\n",
    "    proKeysRec.extend([\"PFtof1aHity\", \"PFtof1bHity\", \"PFtof2Hity\", \"PCtofHity\"])\n",
    "    proKeysRec.extend([\"PFtof1aHitz\", \"PFtof1bHitz\", \"PFtof2Hitz\", \"PCtofHitz\"])\n",
    "    proKeysRec.extend([\"Pchi2pid\", \"Pchi2track\", \"PNDFtrack\"])\n",
    "if logistics:\n",
    "    eleKeysRec.extend([\"EventNum\", \"RunNum\", \"beamQ\", \"liveTime\", \"helicity\"])\n"
   ]
  },
  {
   "cell_type": "code",
   "execution_count": 4,
   "id": "e29b1922",
   "metadata": {},
   "outputs": [
    {
     "name": "stdout",
     "output_type": "stream",
     "text": [
      "<TTree 'T' (98 branches) at 0x7fb8d052d4f0>\n"
     ]
    }
   ],
   "source": [
    "tree = file[\"T\"]\n",
    "print(tree)"
   ]
  },
  {
   "cell_type": "code",
   "execution_count": 5,
   "id": "18520762",
   "metadata": {},
   "outputs": [],
   "source": [
    "entry_start = None\n",
    "entry_stop = None"
   ]
  },
  {
   "cell_type": "code",
   "execution_count": 6,
   "id": "d0923a59",
   "metadata": {},
   "outputs": [
    {
     "name": "stdout",
     "output_type": "stream",
     "text": [
      "reading electron  Epx\n",
      "reading electron  Epy\n",
      "reading electron  Epz\n",
      "reading electron  Eedep\n",
      "reading electron  Esector\n",
      "reading  Ppx\n",
      "reading  Ppy\n",
      "reading  Ppz\n",
      "reading  Pstat\n",
      "reading  Psector\n",
      "reading  PDc1Hitx\n",
      "reading  PDc1Hity\n",
      "reading  PDc1Hitz\n",
      "reading  PCvt12Hitx\n",
      "reading  PCvt12Hity\n",
      "reading  PCvt12Hitz\n"
     ]
    }
   ],
   "source": [
    "for key in eleKeysRec:\n",
    "    print(\"reading electron \", key)\n",
    "\n",
    "    df_electronRec[key] = tree[key].array(library=\"pd\", entry_start = entry_start, entry_stop=entry_stop)\n",
    "for key in proKeysRec:\n",
    "    print(\"reading \", key)\n",
    "    df_protonRec[key] = tree[key].array(library=\"pd\", entry_start = entry_start, entry_stop=entry_stop)\n",
    "for key in gamKeysRec:\n",
    "    df_gammaRec[key] = tree[key].array(library=\"pd\", entry_start = entry_start, entry_stop=entry_stop)"
   ]
  },
  {
   "cell_type": "code",
   "execution_count": 7,
   "id": "23ad6831",
   "metadata": {},
   "outputs": [
    {
     "name": "stdout",
     "output_type": "stream",
     "text": [
      "                       Ppx       Ppy       Ppz  Pstat  Psector    PDc1Hitx  \\\n",
      "entry   subentry                                                             \n",
      "0       0         0.531655 -0.252240  0.957706   2100        1  117.696045   \n",
      "1       0        -0.144712  0.666323  3.043990   2220        3  -19.297224   \n",
      "2       0         0.536130 -0.324381  1.877942   2210        1   71.638405   \n",
      "3       0         0.055048  0.435875  1.451008   2230        3  -15.780781   \n",
      "4       0        -0.033789 -0.152539  1.062974   2210        6   10.007469   \n",
      "...                    ...       ...       ...    ...      ...         ...   \n",
      "1674473 0         0.384679  0.036643  1.089145   2110        2   68.352989   \n",
      "1674474 0        -0.016460  0.380917  2.075575   2230        3  -12.836276   \n",
      "1674475 0        -0.729133  0.331367  1.765407   2220        4  -95.926521   \n",
      "1674476 0        -0.099830  0.628007  0.889479   2100        3  -87.267052   \n",
      "1674477 0        -0.426553  0.067141  2.694247   2220        4  -35.449051   \n",
      "\n",
      "                   PDc1Hity    PDc1Hitz  PCvt12Hitx  PCvt12Hity  PCvt12Hitz  \n",
      "entry   subentry                                                             \n",
      "0       0          9.863142  204.520691   -100000.0   -100000.0   -100000.0  \n",
      "1       0         48.821114  235.240433   -100000.0   -100000.0   -100000.0  \n",
      "2       0        -20.470732  226.002502   -100000.0   -100000.0   -100000.0  \n",
      "3       0         65.790092  229.207687   -100000.0   -100000.0   -100000.0  \n",
      "4       0        -33.675888  243.392105   -100000.0   -100000.0   -100000.0  \n",
      "...                     ...         ...         ...         ...         ...  \n",
      "1674473 0         46.853603  224.646362   -100000.0   -100000.0   -100000.0  \n",
      "1674474 0         41.972870  239.513596   -100000.0   -100000.0   -100000.0  \n",
      "1674475 0         13.549965  214.842239   -100000.0   -100000.0   -100000.0  \n",
      "1674476 0         99.263039  199.010757   -100000.0   -100000.0   -100000.0  \n",
      "1674477 0          3.152137  243.049622   -100000.0   -100000.0   -100000.0  \n",
      "\n",
      "[1809589 rows x 11 columns]\n"
     ]
    }
   ],
   "source": [
    "print(df_protonRec)"
   ]
  },
  {
   "cell_type": "code",
   "execution_count": 8,
   "id": "04bd0c9f",
   "metadata": {},
   "outputs": [],
   "source": [
    "nofid = True"
   ]
  },
  {
   "cell_type": "code",
   "execution_count": 9,
   "id": "0cea96f9",
   "metadata": {},
   "outputs": [],
   "source": [
    "if nofid:\n",
    "    df_gammaRec.loc[:, \"GFid\"] = 1\n",
    "else:\n",
    "    pass\n",
    "\n",
    "#set up a dummy index for merging\n",
    "df_electronRec.loc[:,'event'] = df_electronRec.index\n",
    "df_protonRec.loc[:,'event'] = df_protonRec.index.get_level_values('entry')\n",
    "df_gammaRec.loc[:,'event'] = df_gammaRec.index.get_level_values('entry')\n",
    "df_gammaRec.loc[:,'GIndex'] = df_gammaRec.index.get_level_values('subentry')\n",
    "\n",
    "#prepare for proton energy loss corrections correction\n",
    "pro = [df_protonRec['Ppx'], df_protonRec['Ppy'], df_protonRec['Ppz']]\n",
    "df_protonRec.loc[:, 'Pp'] = mag(pro)\n",
    "df_protonRec.loc[:, 'Ptheta'] = getTheta(pro)\n",
    "df_protonRec.loc[:, 'Pphi'] = getPhi(pro)\n",
    "\n",
    "df_protonRec.loc[:, \"PDc1theta\"] = -100000\n",
    "\n",
    "if detRes:\n",
    "    df_protonRec.loc[:, \"PDc3theta\"] = -100000\n",
    "\n",
    "    df_electronRec.loc[:, \"EDc1theta\"] = getTheta([df_electronRec.EDc1Hitx, df_electronRec.EDc1Hity, df_electronRec.EDc1Hitz])\n",
    "    df_electronRec.loc[:, \"EDc3theta\"] = getTheta([df_electronRec.EDc3Hitx, df_electronRec.EDc3Hity, df_electronRec.EDc3Hitz])\n",
    "    df_electronRec.loc[:, \"EAngleDiff\"] = df_electronRec.loc[:, \"EDc3theta\"] - df_electronRec.loc[:, \"EDc1theta\"]\n",
    "\n",
    "    df_protonRec.loc[:, \"PCvt1r\"] = -100000\n",
    "    df_protonRec.loc[:, \"PCvt1theta\"] = -100000\n",
    "    df_protonRec.loc[:, \"PCvt1phi\"] = -100000\n",
    "    df_protonRec.loc[:, \"PCvt3r\"] = -100000\n",
    "    df_protonRec.loc[:, \"PCvt3theta\"] = -100000\n",
    "    df_protonRec.loc[:, \"PCvt3phi\"] = -100000\n",
    "    df_protonRec.loc[:, \"PCvt5r\"] = -100000\n",
    "    df_protonRec.loc[:, \"PCvt5theta\"] = -100000\n",
    "    df_protonRec.loc[:, \"PCvt5phi\"] = -100000\n",
    "    df_protonRec.loc[:, \"PCvt7r\"] = -100000\n",
    "    df_protonRec.loc[:, \"PCvt7theta\"] = -100000\n",
    "    df_protonRec.loc[:, \"PCvt7phi\"] = -100000\n",
    "    df_protonRec.loc[:, \"PCvt12r\"] = -100000\n",
    "    df_protonRec.loc[:, \"PCvt12theta\"] = -100000\n",
    "    df_protonRec.loc[:, \"PCvt12phi\"] = -100000\n",
    "else:\n",
    "    df_protonRec.loc[:, \"PCvt12theta\"] = -100000\n",
    "    df_protonRec.loc[:, \"PCvt12phi\"] = -100000\n",
    "\n",
    "df_protonRecFD = df_protonRec.loc[df_protonRec.Psector<7, :]\n",
    "df_protonRecCD = df_protonRec.loc[(df_protonRec.Psector>7) & (df_protonRec.Ptheta<75), :]\n",
    "df_protonRecOthers = df_protonRec.loc[(df_protonRec.Psector>7) & (df_protonRec.Ptheta>=75), :]\n"
   ]
  },
  {
   "cell_type": "code",
   "execution_count": 10,
   "id": "41c6a830",
   "metadata": {},
   "outputs": [
    {
     "name": "stderr",
     "output_type": "stream",
     "text": [
      "/tmp/ipykernel_20327/2944039739.py:33: SettingWithCopyWarning: \n",
      "A value is trying to be set on a copy of a slice from a DataFrame.\n",
      "Try using .loc[row_indexer,col_indexer] = value instead\n",
      "\n",
      "See the caveats in the documentation: https://pandas.pydata.org/pandas-docs/stable/user_guide/indexing.html#returning-a-view-versus-a-copy\n",
      "  df_protonRecCD.loc[:, \"PCvt12theta\"] = getTheta([df_protonRecCD.PCvt12Hitx, df_protonRecCD.PCvt12Hity, df_protonRecCD.PCvt12Hitz])\n",
      "/tmp/ipykernel_20327/2944039739.py:34: SettingWithCopyWarning: \n",
      "A value is trying to be set on a copy of a slice from a DataFrame.\n",
      "Try using .loc[row_indexer,col_indexer] = value instead\n",
      "\n",
      "See the caveats in the documentation: https://pandas.pydata.org/pandas-docs/stable/user_guide/indexing.html#returning-a-view-versus-a-copy\n",
      "  df_protonRecCD.loc[:, \"PCvt12phi\"] = getPhi([df_protonRecCD.PCvt12Hitx, df_protonRecCD.PCvt12Hity, df_protonRecCD.PCvt12Hitz])\n"
     ]
    }
   ],
   "source": [
    "correction = False\n",
    "\n",
    "#two band criterion\n",
    "def corr(x, t):\n",
    "    x0, x1, x2, x3 = x\n",
    "    return x0 + x1*np.power(t-np.ones(len(t))*0.3, x3)\n",
    "\n",
    "df_protonRecFD = df_protonRecFD.loc[df_protonRec.Pp > 0.3, :]\n",
    "df_protonRecFD.loc[:, \"PDc1theta\"] = getTheta([df_protonRecFD.PDc1Hitx, df_protonRecFD.PDc1Hity, df_protonRecFD.PDc1Hitz])\n",
    "if detRes:\n",
    "    df_protonRecFD.loc[:, \"PDc3theta\"] = getTheta([df_protonRecFD.PDc3Hitx, df_protonRecFD.PDc3Hity, df_protonRecFD.PDc3Hitz])\n",
    "best_params = [-53.14680163254601, 79.61307254040804, 0.3, 0.05739232362022314]\n",
    "df_protonRecFD_1 = df_protonRecFD.loc[df_protonRecFD.PDc1theta < corr(best_params, df_protonRecFD.Pp), :]\n",
    "df_protonRecFD_2 = df_protonRecFD.loc[df_protonRecFD.PDc1theta >= corr(best_params, df_protonRecFD.Pp), :]\n",
    "\n",
    "if detRes:\n",
    "    df_protonRecCD.loc[:, \"PCvt1r\"] = mag([df_protonRecCD.PCvt1Hitx, df_protonRecCD.PCvt1Hity, df_protonRecCD.PCvt1Hitz])\n",
    "    df_protonRecCD.loc[:, \"PCvt1theta\"] = getTheta([df_protonRecCD.PCvt1Hitx, df_protonRecCD.PCvt1Hity, df_protonRecCD.PCvt1Hitz])\n",
    "    df_protonRecCD.loc[:, \"PCvt1phi\"] = getPhi([df_protonRecCD.PCvt1Hitx, df_protonRecCD.PCvt1Hity, df_protonRecCD.PCvt1Hitz])\n",
    "    df_protonRecCD.loc[:, \"PCvt3r\"] = mag([df_protonRecCD.PCvt3Hitx, df_protonRecCD.PCvt3Hity, df_protonRecCD.PCvt3Hitz])\n",
    "    df_protonRecCD.loc[:, \"PCvt3theta\"] = getTheta([df_protonRecCD.PCvt3Hitx, df_protonRecCD.PCvt3Hity, df_protonRecCD.PCvt3Hitz])\n",
    "    df_protonRecCD.loc[:, \"PCvt3phi\"] = getPhi([df_protonRecCD.PCvt3Hitx, df_protonRecCD.PCvt3Hity, df_protonRecCD.PCvt3Hitz])\n",
    "    df_protonRecCD.loc[:, \"PCvt5r\"] = mag([df_protonRecCD.PCvt5Hitx, df_protonRecCD.PCvt5Hity, df_protonRecCD.PCvt5Hitz])\n",
    "    df_protonRecCD.loc[:, \"PCvt5theta\"] = getTheta([df_protonRecCD.PCvt5Hitx, df_protonRecCD.PCvt5Hity, df_protonRecCD.PCvt5Hitz])\n",
    "    df_protonRecCD.loc[:, \"PCvt5phi\"] = getPhi([df_protonRecCD.PCvt5Hitx, df_protonRecCD.PCvt5Hity, df_protonRecCD.PCvt5Hitz])\n",
    "    df_protonRecCD.loc[:, \"PCvt7r\"] = mag([df_protonRecCD.PCvt7Hitx, df_protonRecCD.PCvt7Hity, df_protonRecCD.PCvt7Hitz])\n",
    "    df_protonRecCD.loc[:, \"PCvt7theta\"] = getTheta([df_protonRecCD.PCvt7Hitx, df_protonRecCD.PCvt7Hity, df_protonRecCD.PCvt7Hitz])\n",
    "    df_protonRecCD.loc[:, \"PCvt7phi\"] = getPhi([df_protonRecCD.PCvt7Hitx, df_protonRecCD.PCvt7Hity, df_protonRecCD.PCvt7Hitz])\n",
    "    df_protonRecCD.loc[:, \"PCvt12r\"] = mag([df_protonRecCD.PCvt12Hitx, df_protonRecCD.PCvt12Hity, df_protonRecCD.PCvt12Hitz])\n",
    "    df_protonRecCD.loc[:, \"PCvt12theta\"] = getTheta([df_protonRecCD.PCvt12Hitx, df_protonRecCD.PCvt12Hity, df_protonRecCD.PCvt12Hitz])\n",
    "    df_protonRecCD.loc[:, \"PCvt12phi\"] = getPhi([df_protonRecCD.PCvt12Hitx, df_protonRecCD.PCvt12Hity, df_protonRecCD.PCvt12Hitz])\n",
    "else:\n",
    "    df_protonRecCD.loc[:, \"PCvt12theta\"] = getTheta([df_protonRecCD.PCvt12Hitx, df_protonRecCD.PCvt12Hity, df_protonRecCD.PCvt12Hitz])\n",
    "    df_protonRecCD.loc[:, \"PCvt12phi\"] = getPhi([df_protonRecCD.PCvt12Hitx, df_protonRecCD.PCvt12Hity, df_protonRecCD.PCvt12Hitz])"
   ]
  },
  {
   "cell_type": "code",
   "execution_count": 11,
   "id": "49856732",
   "metadata": {},
   "outputs": [],
   "source": [
    "pol = 'inbending'"
   ]
  },
  {
   "cell_type": "code",
   "execution_count": 12,
   "id": "2e5b213f",
   "metadata": {},
   "outputs": [
    {
     "name": "stderr",
     "output_type": "stream",
     "text": [
      "/home/rober/.local/lib/python3.8/site-packages/pandas/core/arraylike.py:402: RuntimeWarning: overflow encountered in exp\n",
      "  result = getattr(ufunc, method)(*inputs, **kwargs)\n"
     ]
    }
   ],
   "source": [
    "const_FD = -0.00051894 - 0.00018104 * df_protonRecFD_1.Ptheta\n",
    "coeff_FD = 3.29466917*10**(-3) +  5.73663160*10**(-4) * df_protonRecFD_1.Ptheta - 1.40807209 * 10**(-5) * df_protonRecFD_1.Ptheta * df_protonRecFD_1.Ptheta\n",
    "CorrectedPp_FD_1 = np.select([df_protonRecFD_1.Pp<1, df_protonRecFD_1.Pp>=1], [const_FD + coeff_FD/df_protonRecFD_1.loc[:, \"Pp\"] + df_protonRecFD_1.loc[:, \"Pp\"], np.exp(-2.739 - 3.932*df_protonRecFD_1.Pp) + 0.002907+df_protonRecFD_1.Pp])\n",
    "\n",
    "const_FD = -0.16742969 + 0.00697925 * df_protonRecFD_1.Ptheta\n",
    "coeff_FD = 0.23352115 - 0.01338697 * df_protonRecFD_1.Ptheta\n",
    "CorrectedPtheta_FD_1 = const_FD + coeff_FD/df_protonRecFD_1.loc[:, \"Pp\"]/df_protonRecFD_1.loc[:, \"Pp\"] + df_protonRecFD_1.loc[:, \"Ptheta\"]\n",
    "\n",
    "const_FD = 0.21192125 -0.0115175 * df_protonRecFD_1.Ptheta\n",
    "coeff_FD = -8.94307411*0.1 + 1.66349766*0.1 * df_protonRecFD_1.Ptheta -8.90617559*0.001 * df_protonRecFD_1.Ptheta * df_protonRecFD_1.Ptheta + 1.64803754*0.0001 * df_protonRecFD_1.Ptheta * df_protonRecFD_1.Ptheta * df_protonRecFD_1.Ptheta\n",
    "CorrectedPphi_FD_1 = const_FD + coeff_FD/df_protonRecFD_1.loc[:, \"Pp\"]/df_protonRecFD_1.loc[:, \"Pp\"] + df_protonRecFD_1.loc[:, \"Pphi\"]\n",
    "\n",
    "const_FD = -3.03346359*10**(-1) + 1.83368163*10**(-2)*df_protonRecFD_2.Ptheta - 2.86486404*10**(-4)*df_protonRecFD_2.Ptheta*df_protonRecFD_2.Ptheta\n",
    "coeff_FD =  2.01023276*10**(-1) - 1.13312215*10**(-2)*df_protonRecFD_2.Ptheta + 1.82487916*10**(-4)*df_protonRecFD_2.Ptheta*df_protonRecFD_2.Ptheta\n",
    "CorrectedPp_FD_2 = np.select([df_protonRecFD_2.Pp<1, df_protonRecFD_2.Pp>=1], [const_FD + coeff_FD/df_protonRecFD_2.loc[:, \"Pp\"] + df_protonRecFD_2.loc[:, \"Pp\"], np.exp(-1.2 - 4.228*df_protonRecFD_2.Pp) + 0.007502+df_protonRecFD_2.Pp])\n",
    "\n",
    "const_FD = 2.04334532 * 10 -1.81052405 * df_protonRecFD_2.Ptheta + 5.32556360*0.01 * df_protonRecFD_2.Ptheta * df_protonRecFD_2.Ptheta -5.23157558*0.0001 * df_protonRecFD_2.Ptheta * df_protonRecFD_2.Ptheta * df_protonRecFD_2.Ptheta\n",
    "coeff_FD = 8.74233279 -7.63869344 * 0.1 * df_protonRecFD_2.Ptheta + 2.22376362*0.01 * df_protonRecFD_2.Ptheta * df_protonRecFD_2.Ptheta -2.16457260*0.0001 * df_protonRecFD_2.Ptheta * df_protonRecFD_2.Ptheta * df_protonRecFD_2.Ptheta\n",
    "CorrectedPtheta_FD_2 = const_FD + coeff_FD/df_protonRecFD_2.loc[:, \"Pp\"]/df_protonRecFD_2.loc[:, \"Pp\"] + df_protonRecFD_2.loc[:, \"Ptheta\"]\n",
    "\n",
    "const_FD = 0.54697831 -0.04896981*df_protonRecFD_2.Ptheta +  0.00111376*df_protonRecFD_2.Ptheta*df_protonRecFD_2.Ptheta\n",
    "coeff_FD = -4.06733541*10**2 + 2.43696202*10*df_protonRecFD_2.Ptheta -3.36144736*10**(-1)*df_protonRecFD_2.Ptheta*df_protonRecFD_2.Ptheta\n",
    "coeff2_FD = 2.06378660*10 - 1.42866062*df_protonRecFD_2.Ptheta + 2.01085440*10**(-2)*df_protonRecFD_2.Ptheta*df_protonRecFD_2.Ptheta\n",
    "CorrectedPphi_FD_2 = const_FD + coeff_FD*np.exp(coeff2_FD*df_protonRecFD_2.loc[:, \"Pp\"]) + df_protonRecFD_2.loc[:, \"Pphi\"]\n",
    "\n",
    "#CD part\n",
    "const_CD = 1.93686914 - 0.116288824*df_protonRecCD.Ptheta + 0.00223685833*df_protonRecCD.Ptheta**2 - 1.40771969 * 10**(-5)*df_protonRecCD.Ptheta**3\n",
    "coeff_CD = -0.738047800 + 0.0443343685*df_protonRecCD.Ptheta - 8.50985972*10**(-4)*df_protonRecCD.Ptheta*df_protonRecCD.Ptheta + 5.36810280 * 10**(-6) * df_protonRecCD.Ptheta**3\n",
    "\n",
    "CorrectedPp_CD = const_CD + coeff_CD/df_protonRecCD.loc[:, \"Pp\"] + df_protonRecCD.loc[:, \"Pp\"]\n",
    "\n",
    "const_CD = -1.09849291*100 + 8.86664014 * df_protonRecCD.Ptheta - 0.26643881 * df_protonRecCD.Ptheta**2 + 3.53814210 * 10**(-3) * df_protonRecCD.Ptheta**3 - 1.75297107 * 10**(-5) * df_protonRecCD.Ptheta**4\n",
    "coeff_CD = 9.52034523*100 -5.74808292 * 10 * df_protonRecCD.Ptheta + 1.15386949 * df_protonRecCD.Ptheta**2 - 7.57970373 * 0.001 * df_protonRecCD.Ptheta**3\n",
    "coeff2_CD = -2.00387313*100 + 1.18979079 * 10 * df_protonRecCD.Ptheta - 2.37730217*0.1 * df_protonRecCD.Ptheta**2 + 1.55153003*0.001*df_protonRecCD.Ptheta**3\n",
    "\n",
    "CorrectedPtheta_CD = const_CD + coeff_CD*np.exp(coeff2_CD*df_protonRecCD.loc[:, \"Pp\"]) + df_protonRecCD.loc[:, \"Ptheta\"]\n",
    "\n",
    "const_CD = 4.94546178 -3.26662886*0.1 * df_protonRecCD.Ptheta +  7.39069603 * 0.001 * df_protonRecCD.Ptheta**2 -6.83599356*10**(-5) * df_protonRecCD.Ptheta**3 + 2.12303103*10**(-7) * df_protonRecCD.Ptheta**4\n",
    "coeff_CD = 1.72181613*10**(5) -1.36827111*10**(4) * df_protonRecCD.Ptheta + 4.00923146*10**(2) * df_protonRecCD.Ptheta**2 - 5.12792347 * df_protonRecCD.Ptheta**3 + 2.41793167*10**(-2) * df_protonRecCD.Ptheta**4\n",
    "coeff2_CD =  1.20477219*10**(2) -5.86630228 * df_protonRecCD.Ptheta + 7.44007875*10**(-2) * df_protonRecCD.Ptheta**2 -2.42652473*10**(-4) * df_protonRecCD.Ptheta**3\n",
    "CorrectedPphi_CD = const_CD + coeff_CD*np.exp(coeff2_CD*df_protonRecCD.loc[:, \"Pp\"]) + df_protonRecCD.loc[:, \"Pphi\"]\n",
    "\n",
    "correction = True"
   ]
  },
  {
   "cell_type": "code",
   "execution_count": 13,
   "id": "c10a81fb",
   "metadata": {},
   "outputs": [
    {
     "name": "stdout",
     "output_type": "stream",
     "text": [
      "energy loss correction applied for inbending\n"
     ]
    },
    {
     "name": "stderr",
     "output_type": "stream",
     "text": [
      "/tmp/ipykernel_20327/3521754683.py:5: SettingWithCopyWarning: \n",
      "A value is trying to be set on a copy of a slice from a DataFrame.\n",
      "Try using .loc[row_indexer,col_indexer] = value instead\n",
      "\n",
      "See the caveats in the documentation: https://pandas.pydata.org/pandas-docs/stable/user_guide/indexing.html#returning-a-view-versus-a-copy\n",
      "  df_protonRecCD.loc[:, \"Pp\"] = CorrectedPp_CD + 0.01\n",
      "/tmp/ipykernel_20327/3521754683.py:6: SettingWithCopyWarning: \n",
      "A value is trying to be set on a copy of a slice from a DataFrame.\n",
      "Try using .loc[row_indexer,col_indexer] = value instead\n",
      "\n",
      "See the caveats in the documentation: https://pandas.pydata.org/pandas-docs/stable/user_guide/indexing.html#returning-a-view-versus-a-copy\n",
      "  df_protonRecCD.loc[:, \"Ptheta\"] = CorrectedPtheta_CD - 0.002129*CorrectedPtheta_CD**2 + 0.198*CorrectedPtheta_CD - 4.762 -0.2/(1+np.exp((CorrectedPp_CD-0.55)/(-0.05)))\n",
      "/tmp/ipykernel_20327/3521754683.py:7: SettingWithCopyWarning: \n",
      "A value is trying to be set on a copy of a slice from a DataFrame.\n",
      "Try using .loc[row_indexer,col_indexer] = value instead\n",
      "\n",
      "See the caveats in the documentation: https://pandas.pydata.org/pandas-docs/stable/user_guide/indexing.html#returning-a-view-versus-a-copy\n",
      "  df_protonRecCD.loc[:, \"Pphi\"] = CorrectedPphi_CD\n",
      "/tmp/ipykernel_20327/3521754683.py:9: SettingWithCopyWarning: \n",
      "A value is trying to be set on a copy of a slice from a DataFrame.\n",
      "Try using .loc[row_indexer,col_indexer] = value instead\n",
      "\n",
      "See the caveats in the documentation: https://pandas.pydata.org/pandas-docs/stable/user_guide/indexing.html#returning-a-view-versus-a-copy\n",
      "  df_protonRecFD_1.loc[:, \"Pp\"] = CorrectedPp_FD_1\n",
      "/tmp/ipykernel_20327/3521754683.py:10: SettingWithCopyWarning: \n",
      "A value is trying to be set on a copy of a slice from a DataFrame.\n",
      "Try using .loc[row_indexer,col_indexer] = value instead\n",
      "\n",
      "See the caveats in the documentation: https://pandas.pydata.org/pandas-docs/stable/user_guide/indexing.html#returning-a-view-versus-a-copy\n",
      "  df_protonRecFD_1.loc[:, \"Ptheta\"] = CorrectedPtheta_FD_1\n",
      "/tmp/ipykernel_20327/3521754683.py:11: SettingWithCopyWarning: \n",
      "A value is trying to be set on a copy of a slice from a DataFrame.\n",
      "Try using .loc[row_indexer,col_indexer] = value instead\n",
      "\n",
      "See the caveats in the documentation: https://pandas.pydata.org/pandas-docs/stable/user_guide/indexing.html#returning-a-view-versus-a-copy\n",
      "  df_protonRecFD_1.loc[:, \"Pphi\"] = CorrectedPphi_FD_1\n",
      "/tmp/ipykernel_20327/3521754683.py:12: SettingWithCopyWarning: \n",
      "A value is trying to be set on a copy of a slice from a DataFrame.\n",
      "Try using .loc[row_indexer,col_indexer] = value instead\n",
      "\n",
      "See the caveats in the documentation: https://pandas.pydata.org/pandas-docs/stable/user_guide/indexing.html#returning-a-view-versus-a-copy\n",
      "  df_protonRecFD_1.loc[:, \"Pband\"] = \"lower\"\n",
      "/tmp/ipykernel_20327/3521754683.py:14: SettingWithCopyWarning: \n",
      "A value is trying to be set on a copy of a slice from a DataFrame.\n",
      "Try using .loc[row_indexer,col_indexer] = value instead\n",
      "\n",
      "See the caveats in the documentation: https://pandas.pydata.org/pandas-docs/stable/user_guide/indexing.html#returning-a-view-versus-a-copy\n",
      "  df_protonRecFD_2.loc[:, \"Pp\"] = CorrectedPp_FD_2\n",
      "/tmp/ipykernel_20327/3521754683.py:15: SettingWithCopyWarning: \n",
      "A value is trying to be set on a copy of a slice from a DataFrame.\n",
      "Try using .loc[row_indexer,col_indexer] = value instead\n",
      "\n",
      "See the caveats in the documentation: https://pandas.pydata.org/pandas-docs/stable/user_guide/indexing.html#returning-a-view-versus-a-copy\n",
      "  df_protonRecFD_2.loc[:, \"Ptheta\"] = CorrectedPtheta_FD_2\n",
      "/tmp/ipykernel_20327/3521754683.py:16: SettingWithCopyWarning: \n",
      "A value is trying to be set on a copy of a slice from a DataFrame.\n",
      "Try using .loc[row_indexer,col_indexer] = value instead\n",
      "\n",
      "See the caveats in the documentation: https://pandas.pydata.org/pandas-docs/stable/user_guide/indexing.html#returning-a-view-versus-a-copy\n",
      "  df_protonRecFD_2.loc[:, \"Pphi\"] = CorrectedPphi_FD_2\n",
      "/tmp/ipykernel_20327/3521754683.py:17: SettingWithCopyWarning: \n",
      "A value is trying to be set on a copy of a slice from a DataFrame.\n",
      "Try using .loc[row_indexer,col_indexer] = value instead\n",
      "\n",
      "See the caveats in the documentation: https://pandas.pydata.org/pandas-docs/stable/user_guide/indexing.html#returning-a-view-versus-a-copy\n",
      "  df_protonRecFD_2.loc[:, \"Pband\"] = \"upper\"\n"
     ]
    },
    {
     "name": "stdout",
     "output_type": "stream",
     "text": [
      "applying the proton kinematic corrections for inbending\n"
     ]
    }
   ],
   "source": [
    "        if correction:\n",
    "            #proton correction\n",
    "            print(\"energy loss correction applied for \" + pol)\n",
    "\n",
    "            df_protonRecCD.loc[:, \"Pp\"] = CorrectedPp_CD + 0.01\n",
    "            df_protonRecCD.loc[:, \"Ptheta\"] = CorrectedPtheta_CD - 0.002129*CorrectedPtheta_CD**2 + 0.198*CorrectedPtheta_CD - 4.762 -0.2/(1+np.exp((CorrectedPp_CD-0.55)/(-0.05)))\n",
    "            df_protonRecCD.loc[:, \"Pphi\"] = CorrectedPphi_CD\n",
    "\n",
    "            df_protonRecFD_1.loc[:, \"Pp\"] = CorrectedPp_FD_1\n",
    "            df_protonRecFD_1.loc[:, \"Ptheta\"] = CorrectedPtheta_FD_1\n",
    "            df_protonRecFD_1.loc[:, \"Pphi\"] = CorrectedPphi_FD_1\n",
    "            df_protonRecFD_1.loc[:, \"Pband\"] = \"lower\"\n",
    "\n",
    "            df_protonRecFD_2.loc[:, \"Pp\"] = CorrectedPp_FD_2\n",
    "            df_protonRecFD_2.loc[:, \"Ptheta\"] = CorrectedPtheta_FD_2\n",
    "            df_protonRecFD_2.loc[:, \"Pphi\"] = CorrectedPphi_FD_2\n",
    "            df_protonRecFD_2.loc[:, \"Pband\"] = \"upper\"\n",
    "\n",
    "            df_protonRecFD = pd.concat([df_protonRecFD_1, df_protonRecFD_2])\n",
    "\n",
    "            #correcting reconstruction bias after proton energy loss correction\n",
    "            print(\"applying the proton kinematic corrections for \" + pol)\n",
    "            if pol == \"inbending\":\n",
    "                corr = np.poly1d([1.671, -4.918, 5.151, -2.434])(df_protonRecFD.Pp)       \n",
    "                corr = np.where(corr<0, corr, 0)\n",
    "                df_protonRecFD.loc[:, \"Ptheta\"] = df_protonRecFD.Ptheta + corr #corr scale -1 to -0.3 degrees"
   ]
  },
  {
   "cell_type": "code",
   "execution_count": 14,
   "id": "7ff3acbb",
   "metadata": {},
   "outputs": [
    {
     "name": "stderr",
     "output_type": "stream",
     "text": [
      "/home/rober/.local/lib/python3.8/site-packages/pandas/core/arraylike.py:402: RuntimeWarning: invalid value encountered in sin\n",
      "  result = getattr(ufunc, method)(*inputs, **kwargs)\n",
      "/home/rober/.local/lib/python3.8/site-packages/pandas/core/arraylike.py:402: RuntimeWarning: invalid value encountered in sin\n",
      "  result = getattr(ufunc, method)(*inputs, **kwargs)\n",
      "/home/rober/.local/lib/python3.8/site-packages/pandas/core/arraylike.py:402: RuntimeWarning: invalid value encountered in cos\n",
      "  result = getattr(ufunc, method)(*inputs, **kwargs)\n"
     ]
    }
   ],
   "source": [
    " df_protonRec = pd.concat([df_protonRecFD, df_protonRecCD, df_protonRecOthers])\n",
    "\n",
    "#moduli proton phi\n",
    "df_protonRec.loc[:, \"Pphi\"] = np.where(df_protonRec.loc[:, \"Pphi\"]%360<180, df_protonRec.loc[:, \"Pphi\"]%360, df_protonRec.loc[:, \"Pphi\"]%360-360)\n",
    "\n",
    "df_protonRec.loc[:, \"Ppx\"] = df_protonRec.loc[:, \"Pp\"]*np.sin(np.radians(df_protonRec.loc[:, \"Ptheta\"]))*np.cos(np.radians(df_protonRec.loc[:, \"Pphi\"]))\n",
    "df_protonRec.loc[:, \"Ppy\"] = df_protonRec.loc[:, \"Pp\"]*np.sin(np.radians(df_protonRec.loc[:, \"Ptheta\"]))*np.sin(np.radians(df_protonRec.loc[:, \"Pphi\"]))\n",
    "df_protonRec.loc[:, \"Ppz\"] = df_protonRec.loc[:, \"Pp\"]*np.cos(np.radians(df_protonRec.loc[:, \"Ptheta\"]))\n",
    "pro = [df_protonRec['Ppx'], df_protonRec['Ppy'], df_protonRec['Ppz']]\n",
    "\n",
    "df_protonRec.loc[:, 'Pe'] = getEnergy(pro, M)"
   ]
  },
  {
   "cell_type": "code",
   "execution_count": 15,
   "id": "7aa47730",
   "metadata": {},
   "outputs": [],
   "source": [
    "ele = [df_electronRec['Epx'], df_electronRec['Epy'], df_electronRec['Epz']]\n",
    "df_electronRec.loc[:, 'Ep'] = mag(ele)\n",
    "df_electronRec.loc[:,'ESamplFrac'] = df_electronRec.Eedep/ df_electronRec.Ep\n",
    "gam = [df_gammaRec['Gpx'], df_gammaRec['Gpy'], df_gammaRec['Gpz']]\n",
    "df_gammaRec.loc[:, 'Gp'] = mag(gam)\n",
    "df_gammaRec.loc[:,'GSamplFrac'] = df_gammaRec.Gedep/ df_gammaRec.Gp\n",
    "\n",
    "df_gg = pd.merge(df_gammaRec, df_gammaRec,\n",
    "             how='outer', on='event', suffixes=(\"\", \"2\"))\n",
    "df_gg = df_gg[df_gg[\"GIndex\"] < df_gg[\"GIndex2\"]]\n",
    "df_gg = df_gg.drop(['GIndex', 'GIndex2'], axis = 1)\n"
   ]
  },
  {
   "cell_type": "code",
   "execution_count": 16,
   "id": "4453ad82",
   "metadata": {},
   "outputs": [],
   "source": [
    "if nofid:\n",
    "        df_protonRec.loc[:, \"PFid\"] = 1"
   ]
  },
  {
   "cell_type": "code",
   "execution_count": 18,
   "id": "1ccf8ef5",
   "metadata": {},
   "outputs": [
    {
     "ename": "KeyError",
     "evalue": "\"['PDc1Hitx', 'PDc1Hity', 'PDc1Hitz', 'PDc1theta', 'PCvt12Hitx', 'PCvt12Hity', 'PCvt12Hitz', 'PCvt12theta', 'PCvt12phi'] not found in axis\"",
     "output_type": "error",
     "traceback": [
      "\u001b[0;31m---------------------------------------------------------------------------\u001b[0m",
      "\u001b[0;31mKeyError\u001b[0m                                  Traceback (most recent call last)",
      "Cell \u001b[0;32mIn[18], line 1\u001b[0m\n\u001b[0;32m----> 1\u001b[0m df_protonRec \u001b[38;5;241m=\u001b[39m \u001b[43mdf_protonRec\u001b[49m\u001b[38;5;241;43m.\u001b[39;49m\u001b[43mdrop\u001b[49m\u001b[43m(\u001b[49m\u001b[43m[\u001b[49m\u001b[38;5;124;43m\"\u001b[39;49m\u001b[38;5;124;43mPDc1Hitx\u001b[39;49m\u001b[38;5;124;43m\"\u001b[39;49m\u001b[43m,\u001b[49m\u001b[43m \u001b[49m\u001b[38;5;124;43m\"\u001b[39;49m\u001b[38;5;124;43mPDc1Hity\u001b[39;49m\u001b[38;5;124;43m\"\u001b[39;49m\u001b[43m,\u001b[49m\u001b[43m \u001b[49m\u001b[38;5;124;43m\"\u001b[39;49m\u001b[38;5;124;43mPDc1Hitz\u001b[39;49m\u001b[38;5;124;43m\"\u001b[39;49m\u001b[43m,\u001b[49m\u001b[43m \u001b[49m\u001b[38;5;124;43m\"\u001b[39;49m\u001b[38;5;124;43mPDc1theta\u001b[39;49m\u001b[38;5;124;43m\"\u001b[39;49m\u001b[43m,\u001b[49m\u001b[43m \u001b[49m\u001b[38;5;124;43m\"\u001b[39;49m\u001b[38;5;124;43mPCvt12Hitx\u001b[39;49m\u001b[38;5;124;43m\"\u001b[39;49m\u001b[43m,\u001b[49m\u001b[43m \u001b[49m\u001b[38;5;124;43m\"\u001b[39;49m\u001b[38;5;124;43mPCvt12Hity\u001b[39;49m\u001b[38;5;124;43m\"\u001b[39;49m\u001b[43m,\u001b[49m\u001b[43m \u001b[49m\u001b[38;5;124;43m\"\u001b[39;49m\u001b[38;5;124;43mPCvt12Hitz\u001b[39;49m\u001b[38;5;124;43m\"\u001b[39;49m\u001b[43m,\u001b[49m\u001b[43m \u001b[49m\u001b[38;5;124;43m\"\u001b[39;49m\u001b[38;5;124;43mPCvt12theta\u001b[39;49m\u001b[38;5;124;43m\"\u001b[39;49m\u001b[43m,\u001b[49m\u001b[43m \u001b[49m\u001b[38;5;124;43m\"\u001b[39;49m\u001b[38;5;124;43mPCvt12phi\u001b[39;49m\u001b[38;5;124;43m\"\u001b[39;49m\u001b[43m]\u001b[49m\u001b[43m,\u001b[49m\u001b[43m \u001b[49m\u001b[43maxis\u001b[49m\u001b[43m \u001b[49m\u001b[38;5;241;43m=\u001b[39;49m\u001b[43m \u001b[49m\u001b[38;5;241;43m1\u001b[39;49m\u001b[43m)\u001b[49m\n\u001b[1;32m      2\u001b[0m df_gammaRec \u001b[38;5;241m=\u001b[39m df_gammaRec\u001b[38;5;241m.\u001b[39mdrop([\u001b[38;5;124m\"\u001b[39m\u001b[38;5;124mGcX\u001b[39m\u001b[38;5;124m\"\u001b[39m, \u001b[38;5;124m\"\u001b[39m\u001b[38;5;124mGcY\u001b[39m\u001b[38;5;124m\"\u001b[39m], axis \u001b[38;5;241m=\u001b[39m \u001b[38;5;241m1\u001b[39m)\n\u001b[1;32m      3\u001b[0m df_gg \u001b[38;5;241m=\u001b[39m df_gg\u001b[38;5;241m.\u001b[39mdrop([\u001b[38;5;124m\"\u001b[39m\u001b[38;5;124mGcX\u001b[39m\u001b[38;5;124m\"\u001b[39m, \u001b[38;5;124m\"\u001b[39m\u001b[38;5;124mGcY\u001b[39m\u001b[38;5;124m\"\u001b[39m, \u001b[38;5;124m\"\u001b[39m\u001b[38;5;124mGcX2\u001b[39m\u001b[38;5;124m\"\u001b[39m, \u001b[38;5;124m\"\u001b[39m\u001b[38;5;124mGcY2\u001b[39m\u001b[38;5;124m\"\u001b[39m], axis \u001b[38;5;241m=\u001b[39m \u001b[38;5;241m1\u001b[39m)\n",
      "File \u001b[0;32m~/.local/lib/python3.8/site-packages/pandas/util/_decorators.py:331\u001b[0m, in \u001b[0;36mdeprecate_nonkeyword_arguments.<locals>.decorate.<locals>.wrapper\u001b[0;34m(*args, **kwargs)\u001b[0m\n\u001b[1;32m    325\u001b[0m \u001b[38;5;28;01mif\u001b[39;00m \u001b[38;5;28mlen\u001b[39m(args) \u001b[38;5;241m>\u001b[39m num_allow_args:\n\u001b[1;32m    326\u001b[0m     warnings\u001b[38;5;241m.\u001b[39mwarn(\n\u001b[1;32m    327\u001b[0m         msg\u001b[38;5;241m.\u001b[39mformat(arguments\u001b[38;5;241m=\u001b[39m_format_argument_list(allow_args)),\n\u001b[1;32m    328\u001b[0m         \u001b[38;5;167;01mFutureWarning\u001b[39;00m,\n\u001b[1;32m    329\u001b[0m         stacklevel\u001b[38;5;241m=\u001b[39mfind_stack_level(),\n\u001b[1;32m    330\u001b[0m     )\n\u001b[0;32m--> 331\u001b[0m \u001b[38;5;28;01mreturn\u001b[39;00m \u001b[43mfunc\u001b[49m\u001b[43m(\u001b[49m\u001b[38;5;241;43m*\u001b[39;49m\u001b[43margs\u001b[49m\u001b[43m,\u001b[49m\u001b[43m \u001b[49m\u001b[38;5;241;43m*\u001b[39;49m\u001b[38;5;241;43m*\u001b[39;49m\u001b[43mkwargs\u001b[49m\u001b[43m)\u001b[49m\n",
      "File \u001b[0;32m~/.local/lib/python3.8/site-packages/pandas/core/frame.py:5399\u001b[0m, in \u001b[0;36mDataFrame.drop\u001b[0;34m(self, labels, axis, index, columns, level, inplace, errors)\u001b[0m\n\u001b[1;32m   5251\u001b[0m \u001b[38;5;129m@deprecate_nonkeyword_arguments\u001b[39m(version\u001b[38;5;241m=\u001b[39m\u001b[38;5;28;01mNone\u001b[39;00m, allowed_args\u001b[38;5;241m=\u001b[39m[\u001b[38;5;124m\"\u001b[39m\u001b[38;5;124mself\u001b[39m\u001b[38;5;124m\"\u001b[39m, \u001b[38;5;124m\"\u001b[39m\u001b[38;5;124mlabels\u001b[39m\u001b[38;5;124m\"\u001b[39m])\n\u001b[1;32m   5252\u001b[0m \u001b[38;5;28;01mdef\u001b[39;00m \u001b[38;5;21mdrop\u001b[39m(  \u001b[38;5;66;03m# type: ignore[override]\u001b[39;00m\n\u001b[1;32m   5253\u001b[0m     \u001b[38;5;28mself\u001b[39m,\n\u001b[0;32m   (...)\u001b[0m\n\u001b[1;32m   5260\u001b[0m     errors: IgnoreRaise \u001b[38;5;241m=\u001b[39m \u001b[38;5;124m\"\u001b[39m\u001b[38;5;124mraise\u001b[39m\u001b[38;5;124m\"\u001b[39m,\n\u001b[1;32m   5261\u001b[0m ) \u001b[38;5;241m-\u001b[39m\u001b[38;5;241m>\u001b[39m DataFrame \u001b[38;5;241m|\u001b[39m \u001b[38;5;28;01mNone\u001b[39;00m:\n\u001b[1;32m   5262\u001b[0m     \u001b[38;5;124;03m\"\"\"\u001b[39;00m\n\u001b[1;32m   5263\u001b[0m \u001b[38;5;124;03m    Drop specified labels from rows or columns.\u001b[39;00m\n\u001b[1;32m   5264\u001b[0m \n\u001b[0;32m   (...)\u001b[0m\n\u001b[1;32m   5397\u001b[0m \u001b[38;5;124;03m            weight  1.0     0.8\u001b[39;00m\n\u001b[1;32m   5398\u001b[0m \u001b[38;5;124;03m    \"\"\"\u001b[39;00m\n\u001b[0;32m-> 5399\u001b[0m     \u001b[38;5;28;01mreturn\u001b[39;00m \u001b[38;5;28;43msuper\u001b[39;49m\u001b[43m(\u001b[49m\u001b[43m)\u001b[49m\u001b[38;5;241;43m.\u001b[39;49m\u001b[43mdrop\u001b[49m\u001b[43m(\u001b[49m\n\u001b[1;32m   5400\u001b[0m \u001b[43m        \u001b[49m\u001b[43mlabels\u001b[49m\u001b[38;5;241;43m=\u001b[39;49m\u001b[43mlabels\u001b[49m\u001b[43m,\u001b[49m\n\u001b[1;32m   5401\u001b[0m \u001b[43m        \u001b[49m\u001b[43maxis\u001b[49m\u001b[38;5;241;43m=\u001b[39;49m\u001b[43maxis\u001b[49m\u001b[43m,\u001b[49m\n\u001b[1;32m   5402\u001b[0m \u001b[43m        \u001b[49m\u001b[43mindex\u001b[49m\u001b[38;5;241;43m=\u001b[39;49m\u001b[43mindex\u001b[49m\u001b[43m,\u001b[49m\n\u001b[1;32m   5403\u001b[0m \u001b[43m        \u001b[49m\u001b[43mcolumns\u001b[49m\u001b[38;5;241;43m=\u001b[39;49m\u001b[43mcolumns\u001b[49m\u001b[43m,\u001b[49m\n\u001b[1;32m   5404\u001b[0m \u001b[43m        \u001b[49m\u001b[43mlevel\u001b[49m\u001b[38;5;241;43m=\u001b[39;49m\u001b[43mlevel\u001b[49m\u001b[43m,\u001b[49m\n\u001b[1;32m   5405\u001b[0m \u001b[43m        \u001b[49m\u001b[43minplace\u001b[49m\u001b[38;5;241;43m=\u001b[39;49m\u001b[43minplace\u001b[49m\u001b[43m,\u001b[49m\n\u001b[1;32m   5406\u001b[0m \u001b[43m        \u001b[49m\u001b[43merrors\u001b[49m\u001b[38;5;241;43m=\u001b[39;49m\u001b[43merrors\u001b[49m\u001b[43m,\u001b[49m\n\u001b[1;32m   5407\u001b[0m \u001b[43m    \u001b[49m\u001b[43m)\u001b[49m\n",
      "File \u001b[0;32m~/.local/lib/python3.8/site-packages/pandas/util/_decorators.py:331\u001b[0m, in \u001b[0;36mdeprecate_nonkeyword_arguments.<locals>.decorate.<locals>.wrapper\u001b[0;34m(*args, **kwargs)\u001b[0m\n\u001b[1;32m    325\u001b[0m \u001b[38;5;28;01mif\u001b[39;00m \u001b[38;5;28mlen\u001b[39m(args) \u001b[38;5;241m>\u001b[39m num_allow_args:\n\u001b[1;32m    326\u001b[0m     warnings\u001b[38;5;241m.\u001b[39mwarn(\n\u001b[1;32m    327\u001b[0m         msg\u001b[38;5;241m.\u001b[39mformat(arguments\u001b[38;5;241m=\u001b[39m_format_argument_list(allow_args)),\n\u001b[1;32m    328\u001b[0m         \u001b[38;5;167;01mFutureWarning\u001b[39;00m,\n\u001b[1;32m    329\u001b[0m         stacklevel\u001b[38;5;241m=\u001b[39mfind_stack_level(),\n\u001b[1;32m    330\u001b[0m     )\n\u001b[0;32m--> 331\u001b[0m \u001b[38;5;28;01mreturn\u001b[39;00m \u001b[43mfunc\u001b[49m\u001b[43m(\u001b[49m\u001b[38;5;241;43m*\u001b[39;49m\u001b[43margs\u001b[49m\u001b[43m,\u001b[49m\u001b[43m \u001b[49m\u001b[38;5;241;43m*\u001b[39;49m\u001b[38;5;241;43m*\u001b[39;49m\u001b[43mkwargs\u001b[49m\u001b[43m)\u001b[49m\n",
      "File \u001b[0;32m~/.local/lib/python3.8/site-packages/pandas/core/generic.py:4505\u001b[0m, in \u001b[0;36mNDFrame.drop\u001b[0;34m(self, labels, axis, index, columns, level, inplace, errors)\u001b[0m\n\u001b[1;32m   4503\u001b[0m \u001b[38;5;28;01mfor\u001b[39;00m axis, labels \u001b[38;5;129;01min\u001b[39;00m axes\u001b[38;5;241m.\u001b[39mitems():\n\u001b[1;32m   4504\u001b[0m     \u001b[38;5;28;01mif\u001b[39;00m labels \u001b[38;5;129;01mis\u001b[39;00m \u001b[38;5;129;01mnot\u001b[39;00m \u001b[38;5;28;01mNone\u001b[39;00m:\n\u001b[0;32m-> 4505\u001b[0m         obj \u001b[38;5;241m=\u001b[39m \u001b[43mobj\u001b[49m\u001b[38;5;241;43m.\u001b[39;49m\u001b[43m_drop_axis\u001b[49m\u001b[43m(\u001b[49m\u001b[43mlabels\u001b[49m\u001b[43m,\u001b[49m\u001b[43m \u001b[49m\u001b[43maxis\u001b[49m\u001b[43m,\u001b[49m\u001b[43m \u001b[49m\u001b[43mlevel\u001b[49m\u001b[38;5;241;43m=\u001b[39;49m\u001b[43mlevel\u001b[49m\u001b[43m,\u001b[49m\u001b[43m \u001b[49m\u001b[43merrors\u001b[49m\u001b[38;5;241;43m=\u001b[39;49m\u001b[43merrors\u001b[49m\u001b[43m)\u001b[49m\n\u001b[1;32m   4507\u001b[0m \u001b[38;5;28;01mif\u001b[39;00m inplace:\n\u001b[1;32m   4508\u001b[0m     \u001b[38;5;28mself\u001b[39m\u001b[38;5;241m.\u001b[39m_update_inplace(obj)\n",
      "File \u001b[0;32m~/.local/lib/python3.8/site-packages/pandas/core/generic.py:4546\u001b[0m, in \u001b[0;36mNDFrame._drop_axis\u001b[0;34m(self, labels, axis, level, errors, only_slice)\u001b[0m\n\u001b[1;32m   4544\u001b[0m         new_axis \u001b[38;5;241m=\u001b[39m axis\u001b[38;5;241m.\u001b[39mdrop(labels, level\u001b[38;5;241m=\u001b[39mlevel, errors\u001b[38;5;241m=\u001b[39merrors)\n\u001b[1;32m   4545\u001b[0m     \u001b[38;5;28;01melse\u001b[39;00m:\n\u001b[0;32m-> 4546\u001b[0m         new_axis \u001b[38;5;241m=\u001b[39m \u001b[43maxis\u001b[49m\u001b[38;5;241;43m.\u001b[39;49m\u001b[43mdrop\u001b[49m\u001b[43m(\u001b[49m\u001b[43mlabels\u001b[49m\u001b[43m,\u001b[49m\u001b[43m \u001b[49m\u001b[43merrors\u001b[49m\u001b[38;5;241;43m=\u001b[39;49m\u001b[43merrors\u001b[49m\u001b[43m)\u001b[49m\n\u001b[1;32m   4547\u001b[0m     indexer \u001b[38;5;241m=\u001b[39m axis\u001b[38;5;241m.\u001b[39mget_indexer(new_axis)\n\u001b[1;32m   4549\u001b[0m \u001b[38;5;66;03m# Case for non-unique axis\u001b[39;00m\n\u001b[1;32m   4550\u001b[0m \u001b[38;5;28;01melse\u001b[39;00m:\n",
      "File \u001b[0;32m~/.local/lib/python3.8/site-packages/pandas/core/indexes/base.py:6934\u001b[0m, in \u001b[0;36mIndex.drop\u001b[0;34m(self, labels, errors)\u001b[0m\n\u001b[1;32m   6932\u001b[0m \u001b[38;5;28;01mif\u001b[39;00m mask\u001b[38;5;241m.\u001b[39many():\n\u001b[1;32m   6933\u001b[0m     \u001b[38;5;28;01mif\u001b[39;00m errors \u001b[38;5;241m!=\u001b[39m \u001b[38;5;124m\"\u001b[39m\u001b[38;5;124mignore\u001b[39m\u001b[38;5;124m\"\u001b[39m:\n\u001b[0;32m-> 6934\u001b[0m         \u001b[38;5;28;01mraise\u001b[39;00m \u001b[38;5;167;01mKeyError\u001b[39;00m(\u001b[38;5;124mf\u001b[39m\u001b[38;5;124m\"\u001b[39m\u001b[38;5;132;01m{\u001b[39;00m\u001b[38;5;28mlist\u001b[39m(labels[mask])\u001b[38;5;132;01m}\u001b[39;00m\u001b[38;5;124m not found in axis\u001b[39m\u001b[38;5;124m\"\u001b[39m)\n\u001b[1;32m   6935\u001b[0m     indexer \u001b[38;5;241m=\u001b[39m indexer[\u001b[38;5;241m~\u001b[39mmask]\n\u001b[1;32m   6936\u001b[0m \u001b[38;5;28;01mreturn\u001b[39;00m \u001b[38;5;28mself\u001b[39m\u001b[38;5;241m.\u001b[39mdelete(indexer)\n",
      "\u001b[0;31mKeyError\u001b[0m: \"['PDc1Hitx', 'PDc1Hity', 'PDc1Hitz', 'PDc1theta', 'PCvt12Hitx', 'PCvt12Hity', 'PCvt12Hitz', 'PCvt12theta', 'PCvt12phi'] not found in axis\""
     ]
    }
   ],
   "source": [
    "df_protonRec = df_protonRec.drop([\"PDc1Hitx\", \"PDc1Hity\", \"PDc1Hitz\", \"PDc1theta\", \"PCvt12Hitx\", \"PCvt12Hity\", \"PCvt12Hitz\", \"PCvt12theta\", \"PCvt12phi\"], axis = 1)\n",
    "df_gammaRec = df_gammaRec.drop([\"GcX\", \"GcY\"], axis = 1)\n",
    "df_gg = df_gg.drop([\"GcX\", \"GcY\", \"GcX2\", \"GcY2\"], axis = 1)\n"
   ]
  },
  {
   "cell_type": "code",
   "execution_count": 19,
   "id": "ccbb1b4b",
   "metadata": {},
   "outputs": [],
   "source": [
    "df_ep = pd.merge(df_electronRec, df_protonRec, how='outer', on='event')\n",
    "\n",
    "df_epgg = pd.merge(df_ep, df_gg, how='outer', on='event')\n",
    "df_epgg = df_epgg[~np.isnan(df_epgg[\"Ppx\"])]\n",
    "df_epgg = df_epgg[~np.isnan(df_epgg[\"Gpx\"])]\n",
    "df_epgg = df_epgg[~np.isnan(df_epgg[\"Gpx2\"])]"
   ]
  },
  {
   "cell_type": "code",
   "execution_count": 20,
   "id": "27a243c4",
   "metadata": {},
   "outputs": [
    {
     "name": "stdout",
     "output_type": "stream",
     "text": [
      "               Epx       Epy       Epz     Eedep  Esector    event        Ep  \\\n",
      "0        -0.570264  0.992930  7.981849  1.671332        3        0  8.063561   \n",
      "1         0.756446  0.222380  2.694004  0.696526        1        1  2.807013   \n",
      "2         0.756446  0.222380  2.694004  0.696526        1        1  2.807013   \n",
      "3         0.756446  0.222380  2.694004  0.696526        1        1  2.807013   \n",
      "4        -1.354145 -0.044082  5.812545  1.524355        4        2  5.968361   \n",
      "...            ...       ...       ...       ...      ...      ...       ...   \n",
      "11631544  0.411883 -0.633746  2.258569  0.628782        6  1674477  2.381683   \n",
      "11631545  0.411883 -0.633746  2.258569  0.628782        6  1674477  2.381683   \n",
      "11631546  0.411883 -0.633746  2.258569  0.628782        6  1674477  2.381683   \n",
      "11631547  0.411883 -0.633746  2.258569  0.628782        6  1674477  2.381683   \n",
      "11631548  0.411883 -0.633746  2.258569  0.628782        6  1674477  2.381683   \n",
      "\n",
      "          ESamplFrac       Ppx       Ppy  ...        Gp  GSamplFrac      Gpx2  \\\n",
      "0           0.207270  0.528511 -0.247342  ...  0.745302    0.236980 -0.014448   \n",
      "1           0.248138 -0.144936  0.662969  ...  1.426315    0.246841 -0.204427   \n",
      "2           0.248138 -0.144936  0.662969  ...  1.426315    0.246841  0.013898   \n",
      "3           0.248138 -0.144936  0.662969  ...  0.762787    0.237461  0.013898   \n",
      "4           0.255406  0.535996 -0.323727  ...  0.639072    0.233464  0.110294   \n",
      "...              ...       ...       ...  ...       ...         ...       ...   \n",
      "11631544    0.264007 -0.422998  0.065766  ...  0.520740    0.227765 -0.012681   \n",
      "11631545    0.264007 -0.422998  0.065766  ...  0.520740    0.227765  0.039493   \n",
      "11631546    0.264007 -0.422998  0.065766  ...  0.350543    1.000000 -0.012681   \n",
      "11631547    0.264007 -0.422998  0.065766  ...  0.350543    1.000000  0.039493   \n",
      "11631548    0.264007 -0.422998  0.065766  ...  0.293448    1.000000  0.039493   \n",
      "\n",
      "              Gpy2      Gpz2    Gedep2 Gsector2  GFid2       Gp2  GSamplFrac2  \n",
      "0         0.040343  0.407060  0.089711        0      1  0.409309     0.219177  \n",
      "1         0.028425  0.734333  0.181132        4      1  0.762787     0.237461  \n",
      "2         0.003272  0.096531  0.013922        0      1  0.097581     0.142673  \n",
      "3         0.003272  0.096531  0.013922        0      1  0.097581     0.142673  \n",
      "4        -0.044582  0.265068  0.058713        0      1  0.290540     0.202083  \n",
      "...            ...       ...       ...      ...    ...       ...          ...  \n",
      "11631544 -0.014986  0.292790  0.293448     1010      1  0.293448     1.000000  \n",
      "11631545 -0.031395  0.177340  0.030820        6      1  0.184377     0.167160  \n",
      "11631546 -0.014986  0.292790  0.293448     1010      1  0.293448     1.000000  \n",
      "11631547 -0.031395  0.177340  0.030820        6      1  0.184377     0.167160  \n",
      "11631548 -0.031395  0.177340  0.030820        6      1  0.184377     0.167160  \n",
      "\n",
      "[11621809 rows x 35 columns]\n"
     ]
    }
   ],
   "source": [
    "print(df_epgg)"
   ]
  },
  {
   "cell_type": "code",
   "execution_count": 21,
   "id": "ef3325e0",
   "metadata": {},
   "outputs": [],
   "source": [
    "df_epgg.to_pickle(\"raw_df_epgg_skim4_5038.pkl\")"
   ]
  },
  {
   "cell_type": "code",
   "execution_count": 4,
   "id": "a2d1ea8c",
   "metadata": {},
   "outputs": [
    {
     "name": "stderr",
     "output_type": "stream",
     "text": [
      "/home/rober/.local/lib/python3.8/site-packages/pandas/core/arraylike.py:402: RuntimeWarning: invalid value encountered in arccos\n",
      "  result = getattr(ufunc, method)(*inputs, **kwargs)\n",
      "/home/rober/.local/lib/python3.8/site-packages/pandas/core/arraylike.py:402: RuntimeWarning: invalid value encountered in arccos\n",
      "  result = getattr(ufunc, method)(*inputs, **kwargs)\n",
      "/home/rober/.local/lib/python3.8/site-packages/pandas/core/arraylike.py:402: RuntimeWarning: invalid value encountered in arccos\n",
      "  result = getattr(ufunc, method)(*inputs, **kwargs)\n"
     ]
    }
   ],
   "source": [
    "ele = [df_epgg['Epx'], df_epgg['Epy'], df_epgg['Epz']]\n",
    "df_epgg.loc[:, 'Ep'] = mag(ele)\n",
    "df_epgg.loc[:, 'Ee'] = getEnergy(ele, me)\n",
    "df_epgg.loc[:, 'Etheta'] = getTheta(ele)\n",
    "df_epgg.loc[:, 'Ephi'] = getPhi(ele)\n",
    "\n",
    "pro = [df_epgg['Ppx'], df_epgg['Ppy'], df_epgg['Ppz']]\n",
    "\n",
    "gam = [df_epgg['Gpx'], df_epgg['Gpy'], df_epgg['Gpz']]\n",
    "df_epgg.loc[:, 'Gp'] = mag(gam)\n",
    "df_epgg.loc[:, 'Ge'] = getEnergy(gam, 0)\n",
    "df_epgg.loc[:, 'Gtheta'] = getTheta(gam)\n",
    "df_epgg.loc[:, 'Gphi'] = getPhi(gam)\n",
    "\n",
    "gam2 = [df_epgg['Gpx2'], df_epgg['Gpy2'], df_epgg['Gpz2']]\n",
    "df_epgg.loc[:, 'Gp2'] = mag(gam2)\n",
    "df_epgg.loc[:,'Ge2'] = getEnergy(gam2, 0)\n",
    "df_epgg.loc[:, 'Gtheta2'] = getTheta(gam2)\n",
    "df_epgg.loc[:, 'Gphi2'] = getPhi(gam2)\n",
    "\n",
    "pi0 = vecAdd(gam, gam2)\n",
    "VGS = [-df_epgg['Epx'], -df_epgg['Epy'], pbeam - df_epgg['Epz']]\n",
    "v3l = cross(beam, ele)\n",
    "v3h = cross(pro, VGS)\n",
    "v3g = cross(VGS, gam)\n",
    "v3pi0 = cross(VGS, pi0)\n",
    "\n",
    "VmissPi0 = [-df_epgg[\"Epx\"] - df_epgg[\"Ppx\"], -df_epgg[\"Epy\"] -\n",
    "            df_epgg[\"Ppy\"], pbeam - df_epgg[\"Epz\"] - df_epgg[\"Ppz\"]]\n",
    "VmissP = [-df_epgg[\"Epx\"] - df_epgg[\"Gpx\"] - df_epgg[\"Gpx2\"], -df_epgg[\"Epy\"] -\n",
    "            df_epgg[\"Gpy\"] - df_epgg[\"Gpy2\"], pbeam - df_epgg[\"Epz\"] - df_epgg[\"Gpz\"] - df_epgg[\"Gpz2\"]]\n",
    "Vmiss = [-df_epgg[\"Epx\"] - df_epgg[\"Ppx\"] - df_epgg[\"Gpx\"] - df_epgg[\"Gpx2\"],\n",
    "            -df_epgg[\"Epy\"] - df_epgg[\"Ppy\"] - df_epgg[\"Gpy\"] - df_epgg[\"Gpy2\"],\n",
    "            pbeam - df_epgg[\"Epz\"] - df_epgg[\"Ppz\"] - df_epgg[\"Gpz\"] - df_epgg[\"Gpz2\"]]\n",
    "costheta = cosTheta(VGS, gam)\n",
    "\n",
    "df_epgg.loc[:, 'Mpx'], df_epgg.loc[:, 'Mpy'], df_epgg.loc[:, 'Mpz'] = Vmiss\n",
    "\n",
    "# binning kinematics\n",
    "df_epgg.loc[:,'Q2'] = -((ebeam - df_epgg['Ee'])**2 - mag2(VGS))\n",
    "df_epgg.loc[:,'nu'] = (ebeam - df_epgg['Ee'])\n",
    "df_epgg.loc[:,'xB'] = df_epgg['Q2'] / 2.0 / M / df_epgg['nu']\n",
    "df_epgg.loc[:,'y'] = df_epgg['nu']/ebeam\n",
    "df_epgg.loc[:,'t1'] = 2 * M * (df_epgg['Pe'] - M)\n",
    "df_epgg.loc[:,'t2'] = (M * df_epgg['Q2'] + 2 * M * df_epgg['nu'] * (df_epgg['nu'] - np.sqrt(df_epgg['nu'] * df_epgg['nu'] + df_epgg['Q2']) * costheta))\\\n",
    "/ (M + df_epgg['nu'] - np.sqrt(df_epgg['nu'] * df_epgg['nu'] + df_epgg['Q2']) * costheta)\n",
    "df_epgg.loc[:,'W'] = np.sqrt(np.maximum(0, (ebeam + M - df_epgg['Ee'])**2 - mag2(VGS)))\n",
    "df_epgg.loc[:,'MPt'] = np.sqrt((df_epgg[\"Epx\"] + df_epgg[\"Ppx\"] + df_epgg[\"Gpx\"] + df_epgg[\"Gpx2\"])**2 +\n",
    "                         (df_epgg[\"Epy\"] + df_epgg[\"Ppy\"] + df_epgg[\"Gpy\"] + df_epgg[\"Gpy2\"])**2)\n",
    "# trento angles\n",
    "df_epgg.loc[:,'phi1'] = angle(v3l, v3h)\n",
    "df_epgg.loc[:,'phi1'] = np.where(dot(v3l, pro) > 0, 360.0 -\n",
    "                          df_epgg['phi1'], df_epgg['phi1'])\n",
    "df_epgg.loc[:,'phi2'] = angle(v3l, v3g)\n",
    "df_epgg.loc[:,'phi2'] = np.where(dot(v3l, gam) <\n",
    "                          0, 360.0 - df_epgg['phi2'], df_epgg['phi2'])\n",
    "\n",
    "# exclusivity variables\n",
    "df_epgg.loc[:,'MM2_ep'] = (-M - ebeam + df_epgg[\"Ee\"] +\n",
    "                     df_epgg[\"Pe\"])**2 - mag2(VmissPi0)\n",
    "df_epgg.loc[:,'MM2_egg'] = (-M - ebeam + df_epgg[\"Ee\"] +\n",
    "                     df_epgg[\"Ge\"] + df_epgg[\"Ge2\"])**2 - mag2(VmissP)\n",
    "df_epgg.loc[:,'MM2_epgg'] = (-M - ebeam + df_epgg[\"Ee\"] + df_epgg[\"Pe\"] +\n",
    "                     df_epgg[\"Ge\"] + df_epgg[\"Ge2\"])**2 - mag2(Vmiss)\n",
    "df_epgg.loc[:,'ME_epgg'] = (M + ebeam - df_epgg[\"Ee\"] - df_epgg[\"Pe\"] - df_epgg[\"Ge\"] - df_epgg[\"Ge2\"])\n",
    "df_epgg.loc[:,'Mpi0'] = pi0InvMass(gam, gam2)\n",
    "df_epgg.loc[:,'reconPi'] = angle(VmissPi0, pi0)\n",
    "df_epgg.loc[:,\"Pie\"] = df_epgg['Ge'] + df_epgg['Ge2']\n",
    "df_epgg.loc[:,'coplanarity'] = angle(v3h, v3pi0)\n",
    "df_epgg.loc[:,'coneAngle1'] = angle(ele, gam)\n",
    "df_epgg.loc[:,'coneAngle2'] = angle(ele, gam2)\n",
    "df_epgg.loc[:,'openingAngle'] = angle(gam, gam2)\n",
    "\n",
    "df_epgg.loc[:, \"closeness\"] = np.abs(df_epgg.loc[:, \"Mpi0\"] - .1349766)"
   ]
  },
  {
   "cell_type": "code",
   "execution_count": 26,
   "id": "18463d2c",
   "metadata": {},
   "outputs": [],
   "source": [
    "df = df_epgg"
   ]
  },
  {
   "cell_type": "code",
   "execution_count": 27,
   "id": "16bb7833",
   "metadata": {},
   "outputs": [],
   "source": [
    "df = df[df[\"closeness\"] <= 1]"
   ]
  },
  {
   "cell_type": "code",
   "execution_count": 5,
   "id": "9e475ed9",
   "metadata": {},
   "outputs": [
    {
     "ename": "NameError",
     "evalue": "name 'df' is not defined",
     "output_type": "error",
     "traceback": [
      "\u001b[0;31m---------------------------------------------------------------------------\u001b[0m",
      "\u001b[0;31mNameError\u001b[0m                                 Traceback (most recent call last)",
      "Cell \u001b[0;32mIn[5], line 1\u001b[0m\n\u001b[0;32m----> 1\u001b[0m df \u001b[38;5;241m=\u001b[39m \u001b[43mdf\u001b[49m[df[\u001b[38;5;124m\"\u001b[39m\u001b[38;5;124mQ2\u001b[39m\u001b[38;5;124m\"\u001b[39m] \u001b[38;5;241m<\u001b[39m\u001b[38;5;241m=\u001b[39m \u001b[38;5;241m15\u001b[39m]\n",
      "\u001b[0;31mNameError\u001b[0m: name 'df' is not defined"
     ]
    }
   ],
   "source": [
    "df = df[df[\"Q2\"] <= 15]"
   ]
  },
  {
   "cell_type": "code",
   "execution_count": 6,
   "id": "612074c9",
   "metadata": {},
   "outputs": [],
   "source": [
    "df_epgg = df_epgg[df_epgg[\"xB\"]>-1]"
   ]
  },
  {
   "cell_type": "code",
   "execution_count": 2,
   "id": "92d57f73",
   "metadata": {},
   "outputs": [],
   "source": [
    "df_epgg =  pd.read_pickle(\"raw_df_epgg_skim4_5038.pkl\")"
   ]
  },
  {
   "cell_type": "code",
   "execution_count": 7,
   "id": "282f1216",
   "metadata": {},
   "outputs": [
    {
     "data": {
      "image/png": "[encoded data removed]",
      "text/plain": [
       "<Figure size 640x480 with 1 Axes>"
      ]
     },
     "metadata": {},
     "output_type": "display_data"
    }
   ],
   "source": [
    "import matplotlib.pyplot as plt\n",
    "\n",
    "# Assuming df_epgg is your DataFrame and \"W\" is your column\n",
    "#plt.hist(df[\"closeness\"], bins=100, edgecolor='black')\n",
    "plt.hist(df_epgg[\"W\"], bins=100, edgecolor='black')\n",
    "\n",
    "plt.title(\"Histogram of W\")\n",
    "plt.xlim(0, 5)\n",
    "plt.xlabel(\"W\")\n",
    "plt.ylabel(\"Frequency\")\n",
    "plt.show()\n"
   ]
  },
  {
   "cell_type": "code",
   "execution_count": 24,
   "id": "dd82d148",
   "metadata": {},
   "outputs": [
    {
     "data": {
      "text/plain": [
       "(0.0, 4.0)"
      ]
     },
     "execution_count": 24,
     "metadata": {},
     "output_type": "execute_result"
    },
    {
     "data": {
      "image/png": "[encoded data removed]",
      "text/plain": [
       "<Figure size 1000x800 with 2 Axes>"
      ]
     },
     "metadata": {},
     "output_type": "display_data"
    }
   ],
   "source": [
    "df = df_epgg\n",
    "import matplotlib as mpl\n",
    "import matplotlib.pylab as plt\n",
    "#par = plt.hist2d(x, y, norm=mpl.colors.LogNorm(), cmap=mpl.cm.gray)\n",
    "\n",
    "plt.figure(figsize=(10,8))\n",
    "#plt.hist2d(df['e_theta'], df['W'], bins=(400, 400), cmap=plt.cm.jet)\n",
    "plt.hist2d(df['Etheta'], df['W'], bins=(400, 10), norm=mpl.colors.LogNorm(), cmap=plt.cm.jet)\n",
    "plt.colorbar()\n",
    "plt.title('W vs. Electron Theta, EPGG Inbending Events (run 5038)')\n",
    "plt.xlabel('Electron Theta (degrees)')\n",
    "plt.ylabel('W (GeV)')\n",
    "plt.xlim(5, 10)\n",
    "plt.ylim(0, 4)\n"
   ]
  },
  {
   "cell_type": "code",
   "execution_count": 10,
   "id": "2b4a7c2b",
   "metadata": {},
   "outputs": [
    {
     "data": {
      "image/png": "[encoded data removed]",
      "text/plain": [
       "<Figure size 640x480 with 1 Axes>"
      ]
     },
     "metadata": {},
     "output_type": "display_data"
    }
   ],
   "source": [
    "df_epgg[\"W2\"] = df_epgg[\"W\"]**2\n",
    "\n",
    "# Assuming df_epgg is your DataFrame and \"W\" is your column\n",
    "#plt.hist(df[\"closeness\"], bns=100, edgecolor='black')\n",
    "plt.hist(df_epgg[\"W2\"], bins=100, edgecolor='black')\n",
    "\n",
    "plt.title(\"Histogram of W\")\n",
    "plt.xlim(0, 20)\n",
    "plt.xlabel(\"W\")\n",
    "plt.ylabel(\"Frequency\")\n",
    "plt.show()"
   ]
  },
  {
   "cell_type": "code",
   "execution_count": 43,
   "id": "4dcbf57f",
   "metadata": {},
   "outputs": [
    {
     "name": "stdout",
     "output_type": "stream",
     "text": [
      "               Epx       Epy       Epz     Eedep  Esector    event        Ep  \\\n",
      "3         0.756446  0.222380  2.694004  0.696526        1        1  2.807013   \n",
      "6        -1.354145 -0.044082  5.812545  1.524355        4        2  5.968361   \n",
      "40       -0.311547  0.290369  1.099895  0.264772        3        3  1.179468   \n",
      "41       -0.311547  0.290369  1.099895  0.264772        3        3  1.179468   \n",
      "44        1.301939  0.103807  5.985029  1.675733        1        4  6.125879   \n",
      "...            ...       ...       ...       ...      ...      ...       ...   \n",
      "11631530  0.140934  0.535549  1.853981  0.515155        2  1674476  1.934921   \n",
      "11631531  0.140934  0.535549  1.853981  0.515155        2  1674476  1.934921   \n",
      "11631541  0.411883 -0.633746  2.258569  0.628782        6  1674477  2.381683   \n",
      "11631543  0.411883 -0.633746  2.258569  0.628782        6  1674477  2.381683   \n",
      "11631544  0.411883 -0.633746  2.258569  0.628782        6  1674477  2.381683   \n",
      "\n",
      "          ESamplFrac       Ppx       Ppy  ...  MM2_epgg   ME_epgg      Mpi0  \\\n",
      "3           0.248138 -0.144936  0.662969  ...  4.024082  4.614628  0.112211   \n",
      "6           0.255406  0.535996 -0.323727  ...  1.647737  2.894921  0.140760   \n",
      "40          0.224484  0.054004  0.433151  ...  7.274685  8.233532  0.142030   \n",
      "41          0.224484  0.054004  0.433151  ...  7.283638  8.237851  0.143246   \n",
      "44          0.273550 -0.031642 -0.143919  ...  1.011787  3.318258  0.148318   \n",
      "...              ...       ...       ...  ...       ...       ...       ...   \n",
      "11631530    0.266241 -0.103632  0.623151  ...  2.741310  7.633421  0.105112   \n",
      "11631531    0.266241 -0.103632  0.623151  ...  2.920780  7.494485  0.112279   \n",
      "11631541    0.264007 -0.422998  0.065766  ...  5.593168  5.426585  0.145450   \n",
      "11631543    0.264007 -0.422998  0.065766  ...  5.726515  5.401114  0.135390   \n",
      "11631544    0.264007 -0.422998  0.065766  ...  5.763550  5.458209  0.147201   \n",
      "\n",
      "            reconPi       Pie  coplanarity coneAngle1  coneAngle2  \\\n",
      "3         13.629288  0.860368   105.549957  31.276625    7.925384   \n",
      "6         13.021708  0.485522   127.935043  36.533028    4.146993   \n",
      "40        11.612146  0.343739   117.332443  25.122478   46.449993   \n",
      "41        10.491076  0.339420   119.326614  25.122478   46.057438   \n",
      "44        19.040829  0.668809   150.885239  31.925333    5.760378   \n",
      "...             ...       ...          ...        ...         ...   \n",
      "11631530  20.946899  0.525182   152.417374   1.856040   38.079727   \n",
      "11631531  14.145995  0.664117   102.261665  33.063324   16.901882   \n",
      "11631541  16.735876  0.845812   171.411194  37.024910   17.768106   \n",
      "11631543  13.170379  0.871283    41.111351  16.456390   20.060293   \n",
      "11631544  13.715585  0.814188    49.628468  16.456390   17.768106   \n",
      "\n",
      "          openingAngle  closeness  \n",
      "3            23.734777   0.022765  \n",
      "6            34.398975   0.005784  \n",
      "40           48.832287   0.007054  \n",
      "41           49.972221   0.008269  \n",
      "44           27.967194   0.013341  \n",
      "...                ...        ...  \n",
      "11631530     38.112232   0.029864  \n",
      "11631531     19.583199   0.022698  \n",
      "11631541     20.813732   0.010474  \n",
      "11631543     18.233160   0.000414  \n",
      "11631544     21.704912   0.012225  \n",
      "\n",
      "[2463728 rows x 69 columns]\n"
     ]
    }
   ],
   "source": [
    "cut_pi0upper = df_epgg.loc[:, \"Mpi0\"] < 0.168\n",
    "cut_pi0lower = df_epgg.loc[:, \"Mpi0\"] > 0.096\n",
    "cut_Mpi0 = cut_pi0lower & cut_pi0upper\n",
    "\n",
    "\n",
    "\n",
    "\n",
    "ex_cuts = [cut_Mpi0]\n",
    "\n",
    "cut_xBupper = df_epgg.loc[:, \"xB\"] < 1  # xB\n",
    "cut_xBlower = df_epgg.loc[:, \"xB\"] > 0  # xB\n",
    "cut_Q2 = (df_epgg.loc[:, \"Q2\"] > 1)# & (df_epgg.loc[:, \"Q2\"] <1.5)  # Q2\n",
    "cut_W = df_epgg.loc[:, \"W\"] > 2  # W\n",
    "\n",
    "# cut_Mpi0 = cut_pi0lower & cut_pi0upper\n",
    "# cut_recon = cut_recon_hi & cut_recon_low\n",
    "# cut_mpt = cut_mpt_hi & cut_mpt_low\n",
    "# cut_mmepgg = cut_mmepgg_hi & cut_mmepgg_low\n",
    "# cut_mmep = cut_mmep_hi & cut_mmep_low\n",
    "# cut_mmegg = cut_mmegg_hi & cut_mmegg_low\n",
    "# cut_meepgg = cut_meepgg_hi & cut_meepgg_low\n",
    "\n",
    "#Angle cuts\n",
    "cut_etheta_discrep = df_epgg.loc[:, \"Etheta\"] > 0 # W\n",
    "cut_Ptheta_low = df_epgg.loc[:, \"Ptheta\"] > 5  # W\n",
    "cut_Ptheta_hi = df_epgg.loc[:, \"Ptheta\"] < 65  # W\n",
    "cut_Ptheta_mid = df_epgg.loc[:, \"Ptheta\"] < 42#35  # W\n",
    "cut_Ptheta_mid2 = df_epgg.loc[:, \"Ptheta\"] >42  # W\n",
    "cut_Pphi_low = df_epgg.loc[:, \"Pphi\"] > -360  # W\n",
    "cut_Pphi_hi = df_epgg.loc[:, \"Pphi\"] < 360  # W\n",
    "cut_Gpz2_low = df_epgg.loc[:, \"Gpz2\"] > 0.4#0.4  # Gpz2\n",
    "cut_Gpz_hi = df_epgg.loc[:, \"Gpz\"] < 6000  # Gpz2\n",
    "cut_Ptheta_low_mid_hi = (cut_Ptheta_low & cut_Ptheta_mid)|(cut_Ptheta_mid2 & cut_Ptheta_hi)\n",
    "\n",
    "df = df[(df['Mpi0'] > 0.1) & (df['Mpi0'] < 0.17)].copy()\n",
    "print(df)"
   ]
  },
  {
   "cell_type": "code",
   "execution_count": 49,
   "id": "efbee696",
   "metadata": {},
   "outputs": [
    {
     "name": "stdout",
     "output_type": "stream",
     "text": [
      "11372\n"
     ]
    }
   ],
   "source": [
    "#df = df[(df['Mpi0'] > 0.1) & (df['Mpi0'] < 0.17)].copy()\n",
    "df = df[(df['MM2_ep'] > -0.2) & (df['MM2_ep'] < 0.2)].copy()\n",
    "\n",
    "print(len(df))"
   ]
  },
  {
   "cell_type": "code",
   "execution_count": 53,
   "id": "4445b801",
   "metadata": {},
   "outputs": [
    {
     "data": {
      "text/plain": [
       "<function matplotlib.pyplot.ylabel(ylabel, fontdict=None, labelpad=None, *, loc=None, **kwargs)>"
      ]
     },
     "execution_count": 53,
     "metadata": {},
     "output_type": "execute_result"
    },
    {
     "data": {
      "image/png": "[encoded data removed]",
      "text/plain": [
       "<Figure size 640x480 with 1 Axes>"
      ]
     },
     "metadata": {},
     "output_type": "display_data"
    }
   ],
   "source": [
    "plt.hist(df[\"W\"], bins=25, edgecolor='black')\n",
    "\n",
    "plt.title(\"Histogram of W\")\n",
    "plt.xlim(2, 4)\n",
    "plt.xlabel(\"W\")\n",
    "plt.ylabel"
   ]
  }
 ],
 "metadata": {
  "kernelspec": {
   "display_name": "Python 3 (ipykernel)",
   "language": "python",
   "name": "python3"
  },
  "language_info": {
   "codemirror_mode": {
    "name": "ipython",
    "version": 3
   },
   "file_extension": ".py",
   "mimetype": "text/x-python",
   "name": "python",
   "nbconvert_exporter": "python",
   "pygments_lexer": "ipython3",
   "version": "3.8.10"
  }
 },
 "nbformat": 4,
 "nbformat_minor": 5
}
